{
 "cells": [
  {
   "cell_type": "code",
   "execution_count": 4,
   "metadata": {},
   "outputs": [
    {
     "name": "stdout",
     "output_type": "stream",
     "text": [
      "(18000, 9)\n",
      "(18000,)\n"
     ]
    }
   ],
   "source": [
    "import numpy as np\n",
    "\n",
    "data_X = np.load('../Kryptonite-N_zhang/Datasets/kryptonite-9-X.npy')\n",
    "data_Y = np.load('../Kryptonite-N_zhang/Datasets/kryptonite-9-y.npy')\n",
    "print(data_X.shape)\n",
    "print(data_Y.shape)"
   ]
  },
  {
   "cell_type": "code",
   "execution_count": 17,
   "metadata": {},
   "outputs": [],
   "source": [
    "import numpy as np\n",
    "from sklearn.model_selection import train_test_split\n",
    "from sklearn.svm import SVC\n",
    "from sklearn.metrics import accuracy_score\n",
    "from sklearn.preprocessing import PolynomialFeatures\n",
    "from sklearn.preprocessing import StandardScaler\n",
    "\n",
    "def train_svm(n, degree=2):\n",
    "    # Load the datasets\n",
    "    X = np.load('Datasets/kryptonite-%s-X.npy' % (n))\n",
    "    y = np.load('Datasets/kryptonite-%s-y.npy' % (n))\n",
    "\n",
    "    X = np.where(X < 0.5, 0, 1)\n",
    "    \n",
    "    # Split the data into training, validation, and test sets\n",
    "    X_train, X_temp, y_train, y_temp = train_test_split(X, y, test_size=0.6)  # 60% training\n",
    "    X_val, X_test, y_val, y_test = train_test_split(X_temp, y_temp, test_size=0.5)  # 20% validation, 20% test\n",
    "\n",
    "    # Apply polynomial feature expansion\n",
    "    poly = PolynomialFeatures(degree=degree)\n",
    "    X_train_poly = poly.fit_transform(X_train)\n",
    "    X_val_poly = poly.transform(X_val)\n",
    "    X_test_poly = poly.transform(X_test)\n",
    "\n",
    "    # Create an SVM model\n",
    "    svm_model = SVC(kernel='rbf', C=5, gamma=0.02)\n",
    "\n",
    "    # Train the model\n",
    "    svm_model.fit(X_train_poly, y_train)\n",
    "\n",
    "    # Make predictions on the validation set\n",
    "    y_val_pred = svm_model.predict(X_val_poly)\n",
    "    val_accuracy = accuracy_score(y_val, y_val_pred)\n",
    "    print(f'Validation Accuracy: {val_accuracy:.4f}')\n",
    "\n",
    "    # Make predictions on the test set\n",
    "    y_test_pred = svm_model.predict(X_test_poly)\n",
    "    test_accuracy = accuracy_score(y_test, y_test_pred)\n",
    "    print(f'Test Accuracy: {test_accuracy:.4f}')\n",
    "\n",
    "    # Print predicted labels for the test set\n",
    "    print('Predicted labels for test set:', y_test_pred)\n",
    "    print('Test labels for test set:', y_test)\n",
    "\n",
    "    return test_accuracy, val_accuracy "
   ]
  },
  {
   "cell_type": "code",
   "execution_count": 19,
   "metadata": {},
   "outputs": [
    {
     "name": "stdout",
     "output_type": "stream",
     "text": [
      "Validation Accuracy: 0.9613\n",
      "Test Accuracy: 0.9570\n",
      "Predicted labels for test set: [1 1 1 ... 0 1 0]\n",
      "Test labels for test set: [1 1 1 ... 0 1 0]\n",
      "(0.957037037037037, 0.9612962962962963)\n",
      "Validation Accuracy: 0.9580\n",
      "Test Accuracy: 0.9593\n",
      "Predicted labels for test set: [1 1 1 ... 1 1 1]\n",
      "Test labels for test set: [1 1 1 ... 1 0 1]\n",
      "(0.9592592592592593, 0.957962962962963)\n",
      "Validation Accuracy: 0.9602\n",
      "Test Accuracy: 0.9585\n",
      "Predicted labels for test set: [0 1 1 ... 1 1 0]\n",
      "Test labels for test set: [0 1 1 ... 0 1 0]\n",
      "(0.9585185185185185, 0.9601851851851851)\n",
      "Validation Accuracy: 0.9604\n",
      "Test Accuracy: 0.9578\n",
      "Predicted labels for test set: [0 1 1 ... 0 1 0]\n",
      "Test labels for test set: [0 1 1 ... 0 1 0]\n",
      "(0.9577777777777777, 0.9603703703703703)\n",
      "Validation Accuracy: 0.9572\n",
      "Test Accuracy: 0.9552\n",
      "Predicted labels for test set: [1 0 1 ... 0 1 1]\n",
      "Test labels for test set: [1 0 1 ... 1 1 1]\n",
      "(0.9551851851851851, 0.9572222222222222)\n"
     ]
    }
   ],
   "source": [
    "for i in range(5):\n",
    "    print(train_svm(9,6))\n"
   ]
  },
  {
   "cell_type": "markdown",
   "metadata": {},
   "source": [
    "kernel_type   regularisation     polynomial         val_acc     test_acc\n",
    "\"poly\"          2                  5                0.8431      0.8433\n",
    "\"poly\"          5                  5                0.8515      0.8500\n",
    "\"poly\"          10                 5                0.8765      0.8752\n",
    "\"rbf\"           1                  5                0.7669      0.7713\n",
    "\"poly\"          5                  7                0.8319      0.8241\n",
    "\"poly\"          5                  6                0.8489      0.8537\n",
    "\"poly”          5                  6                0.8800      0.8820  gamma=0.01"
   ]
  }
 ],
 "metadata": {
  "kernelspec": {
   "display_name": "ML_env",
   "language": "python",
   "name": "python3"
  },
  "language_info": {
   "codemirror_mode": {
    "name": "ipython",
    "version": 3
   },
   "file_extension": ".py",
   "mimetype": "text/x-python",
   "name": "python",
   "nbconvert_exporter": "python",
   "pygments_lexer": "ipython3",
   "version": "3.12.3"
  }
 },
 "nbformat": 4,
 "nbformat_minor": 2
}
